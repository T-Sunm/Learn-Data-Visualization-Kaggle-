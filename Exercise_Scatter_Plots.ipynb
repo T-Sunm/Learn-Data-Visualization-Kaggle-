{
  "metadata": {
    "kernelspec": {
      "display_name": "Python 3",
      "language": "python",
      "name": "python3"
    },
    "language_info": {
      "name": "python",
      "version": "3.10.14",
      "mimetype": "text/x-python",
      "codemirror_mode": {
        "name": "ipython",
        "version": 3
      },
      "pygments_lexer": "ipython3",
      "nbconvert_exporter": "python",
      "file_extension": ".py"
    },
    "kaggle": {
      "accelerator": "none",
      "dataSources": [
        {
          "sourceId": 3551030,
          "sourceType": "datasetVersion",
          "datasetId": 116573
        }
      ],
      "isInternetEnabled": false,
      "language": "python",
      "sourceType": "notebook",
      "isGpuEnabled": false
    },
    "colab": {
      "name": "Exercise: Scatter Plots",
      "provenance": [],
      "include_colab_link": true
    }
  },
  "nbformat_minor": 0,
  "nbformat": 4,
  "cells": [
    {
      "cell_type": "markdown",
      "metadata": {
        "id": "view-in-github",
        "colab_type": "text"
      },
      "source": [
        "<a href=\"https://colab.research.google.com/github/T-Sunm/Learn-Data-Visualization-Kaggle-/blob/main/Exercise_Scatter_Plots.ipynb\" target=\"_parent\"><img src=\"https://colab.research.google.com/assets/colab-badge.svg\" alt=\"Open In Colab\"/></a>"
      ]
    },
    {
      "source": [
        "\n",
        "# IMPORTANT: RUN THIS CELL IN ORDER TO IMPORT YOUR KAGGLE DATA SOURCES\n",
        "# TO THE CORRECT LOCATION (/kaggle/input) IN YOUR NOTEBOOK,\n",
        "# THEN FEEL FREE TO DELETE THIS CELL.\n",
        "# NOTE: THIS NOTEBOOK ENVIRONMENT DIFFERS FROM KAGGLE'S PYTHON\n",
        "# ENVIRONMENT SO THERE MAY BE MISSING LIBRARIES USED BY YOUR\n",
        "# NOTEBOOK.\n",
        "\n",
        "import os\n",
        "import sys\n",
        "from tempfile import NamedTemporaryFile\n",
        "from urllib.request import urlopen\n",
        "from urllib.parse import unquote, urlparse\n",
        "from urllib.error import HTTPError\n",
        "from zipfile import ZipFile\n",
        "import tarfile\n",
        "import shutil\n",
        "\n",
        "CHUNK_SIZE = 40960\n",
        "DATA_SOURCE_MAPPING = ':https%3A%2F%2Fstorage.googleapis.com%2Fkaggle-data-sets%2F116573%2F3551030%2Fbundle%2Farchive.zip%3FX-Goog-Algorithm%3DGOOG4-RSA-SHA256%26X-Goog-Credential%3Dgcp-kaggle-com%2540kaggle-161607.iam.gserviceaccount.com%252F20240823%252Fauto%252Fstorage%252Fgoog4_request%26X-Goog-Date%3D20240823T170607Z%26X-Goog-Expires%3D259200%26X-Goog-SignedHeaders%3Dhost%26X-Goog-Signature%3D6567814323759295efa7ac6f713115d2b8337e1075895600d0127f5c5457f9b87a8efc5c547ad6fa67c2d5f19689bda1a3e86a5ff757f5f8e3d35042dd041afd3bbe2ecdfe2ee5e35fa8559616f97adbecc081c0c34c230f0a082cc16f94298e3529ec377cb7f7b6b3c79a84df35b06b7534b91a7ec098ac71f33b2496a4a3fab2805aab926433541db54f736be7b8d3fd5905345cf0e671257c97694752c9c7e1edfa116ab9eef6a661e5f2f34f4c7a768b0bd71d854738be4700a3fbfcb9d8e3f2d35989e2175fb8f306f4418d9bdab0497307bf4210f675f0a3c8f64a48b4829659a8a46d8c1f95baa6fb711d24fd71effb111c9efa46a673b358978a236f'\n",
        "\n",
        "KAGGLE_INPUT_PATH='/kaggle/input'\n",
        "KAGGLE_WORKING_PATH='/kaggle/working'\n",
        "KAGGLE_SYMLINK='kaggle'\n",
        "\n",
        "!umount /kaggle/input/ 2> /dev/null\n",
        "shutil.rmtree('/kaggle/input', ignore_errors=True)\n",
        "os.makedirs(KAGGLE_INPUT_PATH, 0o777, exist_ok=True)\n",
        "os.makedirs(KAGGLE_WORKING_PATH, 0o777, exist_ok=True)\n",
        "\n",
        "try:\n",
        "  os.symlink(KAGGLE_INPUT_PATH, os.path.join(\"..\", 'input'), target_is_directory=True)\n",
        "except FileExistsError:\n",
        "  pass\n",
        "try:\n",
        "  os.symlink(KAGGLE_WORKING_PATH, os.path.join(\"..\", 'working'), target_is_directory=True)\n",
        "except FileExistsError:\n",
        "  pass\n",
        "\n",
        "for data_source_mapping in DATA_SOURCE_MAPPING.split(','):\n",
        "    directory, download_url_encoded = data_source_mapping.split(':')\n",
        "    download_url = unquote(download_url_encoded)\n",
        "    filename = urlparse(download_url).path\n",
        "    destination_path = os.path.join(KAGGLE_INPUT_PATH, directory)\n",
        "    try:\n",
        "        with urlopen(download_url) as fileres, NamedTemporaryFile() as tfile:\n",
        "            total_length = fileres.headers['content-length']\n",
        "            print(f'Downloading {directory}, {total_length} bytes compressed')\n",
        "            dl = 0\n",
        "            data = fileres.read(CHUNK_SIZE)\n",
        "            while len(data) > 0:\n",
        "                dl += len(data)\n",
        "                tfile.write(data)\n",
        "                done = int(50 * dl / int(total_length))\n",
        "                sys.stdout.write(f\"\\r[{'=' * done}{' ' * (50-done)}] {dl} bytes downloaded\")\n",
        "                sys.stdout.flush()\n",
        "                data = fileres.read(CHUNK_SIZE)\n",
        "            if filename.endswith('.zip'):\n",
        "              with ZipFile(tfile) as zfile:\n",
        "                zfile.extractall(destination_path)\n",
        "            else:\n",
        "              with tarfile.open(tfile.name) as tarfile:\n",
        "                tarfile.extractall(destination_path)\n",
        "            print(f'\\nDownloaded and uncompressed: {directory}')\n",
        "    except HTTPError as e:\n",
        "        print(f'Failed to load (likely expired) {download_url} to path {destination_path}')\n",
        "        continue\n",
        "    except OSError as e:\n",
        "        print(f'Failed to load {download_url} to path {destination_path}')\n",
        "        continue\n",
        "\n",
        "print('Data source import complete.')\n"
      ],
      "metadata": {
        "id": "3191Lqb7My5T"
      },
      "cell_type": "code",
      "outputs": [],
      "execution_count": null
    },
    {
      "cell_type": "markdown",
      "source": [
        "**This notebook is an exercise in the [Data Visualization](https://www.kaggle.com/learn/data-visualization) course.  You can reference the tutorial at [this link](https://www.kaggle.com/alexisbcook/scatter-plots).**\n",
        "\n",
        "---\n"
      ],
      "metadata": {
        "id": "ESPENpr_My5W"
      }
    },
    {
      "cell_type": "markdown",
      "source": [
        "In this exercise, you will use your new knowledge to propose a solution to a real-world scenario.  To succeed, you will need to import data into Python, answer questions using the data, and generate **scatter plots** to understand patterns in the data.\n",
        "\n",
        "## Scenario\n",
        "\n",
        "You work for a major candy producer, and your goal is to write a report that your company can use to guide the design of its next product.  Soon after starting your research, you stumble across this [very interesting dataset](https://fivethirtyeight.com/features/the-ultimate-halloween-candy-power-ranking/) containing results from a fun survey to crowdsource favorite candies.\n",
        "\n",
        "## Setup\n",
        "\n",
        "Run the next cell to import and configure the Python libraries that you need to complete the exercise."
      ],
      "metadata": {
        "id": "GrJOUsCLMy5X"
      }
    },
    {
      "cell_type": "code",
      "source": [
        "import pandas as pd\n",
        "pd.plotting.register_matplotlib_converters()\n",
        "import matplotlib.pyplot as plt\n",
        "%matplotlib inline\n",
        "import seaborn as sns\n",
        "print(\"Setup Complete\")"
      ],
      "metadata": {
        "execution": {
          "iopub.status.busy": "2024-08-23T16:22:25.544682Z",
          "iopub.execute_input": "2024-08-23T16:22:25.545126Z",
          "iopub.status.idle": "2024-08-23T16:22:25.553689Z",
          "shell.execute_reply.started": "2024-08-23T16:22:25.545081Z",
          "shell.execute_reply": "2024-08-23T16:22:25.552464Z"
        },
        "trusted": true,
        "id": "9nCD37HcMy5Y"
      },
      "execution_count": null,
      "outputs": []
    },
    {
      "cell_type": "markdown",
      "source": [
        "The questions below will give you feedback on your work. Run the following cell to set up our feedback system."
      ],
      "metadata": {
        "id": "0MTf3Pb2My5Y"
      }
    },
    {
      "cell_type": "code",
      "source": [
        "# Set up code checking\n",
        "import os\n",
        "if not os.path.exists(\"../input/candy.csv\"):\n",
        "    os.symlink(\"../input/data-for-datavis/candy.csv\", \"../input/candy.csv\")\n",
        "from learntools.core import binder\n",
        "binder.bind(globals())\n",
        "from learntools.data_viz_to_coder.ex4 import *\n",
        "print(\"Setup Complete\")"
      ],
      "metadata": {
        "execution": {
          "iopub.status.busy": "2024-08-23T16:22:28.692361Z",
          "iopub.execute_input": "2024-08-23T16:22:28.692793Z",
          "iopub.status.idle": "2024-08-23T16:22:28.73909Z",
          "shell.execute_reply.started": "2024-08-23T16:22:28.692744Z",
          "shell.execute_reply": "2024-08-23T16:22:28.737743Z"
        },
        "trusted": true,
        "id": "erwUkmVLMy5Y"
      },
      "execution_count": null,
      "outputs": []
    },
    {
      "cell_type": "markdown",
      "source": [
        "## Step 1: Load the Data\n",
        "\n",
        "Read the candy data file into `candy_data`.  Use the `\"id\"` column to label the rows."
      ],
      "metadata": {
        "id": "zAUj8ccRMy5Y"
      }
    },
    {
      "cell_type": "code",
      "source": [
        "# Path of the file to read\n",
        "candy_filepath = \"../input/candy.csv\"\n",
        "\n",
        "# Fill in the line below to read the file into a variable candy_data\n",
        "candy_data = pd.read_csv(candy_filepath, index_col = \"id\")\n",
        "\n",
        "# Run the line below with no changes to check that you've loaded the data correctly\n",
        "step_1.check()"
      ],
      "metadata": {
        "execution": {
          "iopub.status.busy": "2024-08-23T16:22:33.584573Z",
          "iopub.execute_input": "2024-08-23T16:22:33.585027Z",
          "iopub.status.idle": "2024-08-23T16:22:33.602432Z",
          "shell.execute_reply.started": "2024-08-23T16:22:33.584975Z",
          "shell.execute_reply": "2024-08-23T16:22:33.601085Z"
        },
        "trusted": true,
        "id": "RuCOWowyMy5Z"
      },
      "execution_count": null,
      "outputs": []
    },
    {
      "cell_type": "code",
      "source": [
        "# Lines below will give you a hint or solution code\n",
        "#step_1.hint()\n",
        "#step_1.solution()"
      ],
      "metadata": {
        "id": "Vl-6qEvRMy5Z"
      },
      "execution_count": null,
      "outputs": []
    },
    {
      "cell_type": "markdown",
      "source": [
        "## Step 2: Review the data\n",
        "\n",
        "Use a Python command to print the first five rows of the data."
      ],
      "metadata": {
        "id": "Q-bLMu9PMy5a"
      }
    },
    {
      "cell_type": "code",
      "source": [
        "# Print the first five rows of the data\n",
        "candy_data"
      ],
      "metadata": {
        "execution": {
          "iopub.status.busy": "2024-08-23T12:38:34.698268Z",
          "iopub.execute_input": "2024-08-23T12:38:34.699375Z",
          "iopub.status.idle": "2024-08-23T12:38:34.725232Z",
          "shell.execute_reply.started": "2024-08-23T12:38:34.699321Z",
          "shell.execute_reply": "2024-08-23T12:38:34.724079Z"
        },
        "trusted": true,
        "id": "gSeri0BzMy5a"
      },
      "execution_count": null,
      "outputs": []
    },
    {
      "cell_type": "markdown",
      "source": [
        "The dataset contains 83 rows, where each corresponds to a different candy bar.  There are 13 columns:\n",
        "- `'competitorname'` contains the name of the candy bar.\n",
        "- the next **9** columns (from `'chocolate'` to `'pluribus'`) describe the candy.  For instance, rows with chocolate candies have `\"Yes\"` in the `'chocolate'` column (and candies without chocolate have `\"No\"` in the same column).\n",
        "- `'sugarpercent'` provides some indication of the amount of sugar, where higher values signify higher sugar content.\n",
        "- `'pricepercent'` shows the price per unit, relative to the other candies in the dataset.\n",
        "- `'winpercent'` is calculated from the survey results; higher values indicate that the candy was more popular with survey respondents.\n",
        "\n",
        "Use the first five rows of the data to answer the questions below."
      ],
      "metadata": {
        "id": "DToJS-LCMy5a"
      }
    },
    {
      "cell_type": "code",
      "source": [
        "fig, axes = plt.subplots(1, 2, figsize=(10, 11))\n",
        "\n",
        "data1 = candy_data.loc[candy_data['competitorname'].isin(['3 Musketeers', 'Almond Joy'])]\n",
        "data2 = candy_data.loc[candy_data['competitorname'].str.contains('Air Heads|Baby Ruth')]\n",
        "\n",
        "sns.barplot(y='winpercent', x='competitorname', ax=axes[0] , data=data1)\n",
        "sns.barplot(y='sugarpercent', x='competitorname', ax=axes[1] , data=data2)\n",
        "\n",
        "# Fill in the line below: Which candy was more popular with survey respondents:\n",
        "# '3 Musketeers' or 'Almond Joy'?  (Please enclose your answer in single quotes.)\n",
        "more_popular = ('3 Musketeers')\n",
        "\n",
        "# Fill in the line below: Which candy has higher sugar content: 'Air Heads'\n",
        "# or 'Baby Ruth'? (Please enclose your answer in single quotes.)\n",
        "more_sugar = ('Air Heads')\n",
        "\n",
        "# Check your answers\n",
        "step_2.check()"
      ],
      "metadata": {
        "execution": {
          "iopub.status.busy": "2024-08-23T13:57:35.829171Z",
          "iopub.execute_input": "2024-08-23T13:57:35.829851Z",
          "iopub.status.idle": "2024-08-23T13:57:36.22031Z",
          "shell.execute_reply.started": "2024-08-23T13:57:35.829805Z",
          "shell.execute_reply": "2024-08-23T13:57:36.219266Z"
        },
        "trusted": true,
        "id": "IVPfcvV5My5a"
      },
      "execution_count": null,
      "outputs": []
    },
    {
      "cell_type": "code",
      "source": [
        "# Lines below will give you a hint or solution code\n",
        "#step_2.hint()\n",
        "#step_2.solution()"
      ],
      "metadata": {
        "id": "0B6waurbMy5a"
      },
      "execution_count": null,
      "outputs": []
    },
    {
      "cell_type": "markdown",
      "source": [
        "## Step 3: The role of sugar\n",
        "\n",
        "Do people tend to prefer candies with higher sugar content?  \n",
        "\n",
        "#### Part A\n",
        "\n",
        "Create a scatter plot that shows the relationship between `'sugarpercent'` (on the horizontal x-axis) and `'winpercent'` (on the vertical y-axis).  _Don't add a regression line just yet -- you'll do that in the next step!_"
      ],
      "metadata": {
        "id": "dBByg1zeMy5b"
      }
    },
    {
      "cell_type": "code",
      "source": [
        "# Scatter plot showing the relationship between 'sugarpercent' and 'winpercent'\n",
        "sns.scatterplot(data = candy_data , x = 'sugarpercent', y = 'winpercent')\n",
        "\n",
        "# Check your answer\n",
        "step_3.a.check()"
      ],
      "metadata": {
        "execution": {
          "iopub.status.busy": "2024-08-23T16:22:48.94524Z",
          "iopub.execute_input": "2024-08-23T16:22:48.946273Z",
          "iopub.status.idle": "2024-08-23T16:22:49.307732Z",
          "shell.execute_reply.started": "2024-08-23T16:22:48.946221Z",
          "shell.execute_reply": "2024-08-23T16:22:49.306469Z"
        },
        "trusted": true,
        "id": "iGIMMlC6My5b"
      },
      "execution_count": null,
      "outputs": []
    },
    {
      "cell_type": "code",
      "source": [
        "# Lines below will give you a hint or solution code\n",
        "#step_3.a.hint()\n",
        "# step_3.a.solution_plot()"
      ],
      "metadata": {
        "execution": {
          "iopub.status.busy": "2024-08-23T16:23:31.389433Z",
          "iopub.execute_input": "2024-08-23T16:23:31.389869Z",
          "iopub.status.idle": "2024-08-23T16:23:31.395228Z",
          "shell.execute_reply.started": "2024-08-23T16:23:31.38982Z",
          "shell.execute_reply": "2024-08-23T16:23:31.393911Z"
        },
        "trusted": true,
        "id": "QMaIQiC2My5b"
      },
      "execution_count": null,
      "outputs": []
    },
    {
      "cell_type": "markdown",
      "source": [
        "#### Part B\n",
        "\n",
        "Does the scatter plot show a **strong** correlation between the two variables?  If so, are candies with more sugar relatively more or less popular with the survey respondents?"
      ],
      "metadata": {
        "id": "X-7rCv37My5b"
      }
    },
    {
      "cell_type": "code",
      "source": [
        "#step_3.b.hint()"
      ],
      "metadata": {
        "id": "aXorMY4EMy5b"
      },
      "execution_count": null,
      "outputs": []
    },
    {
      "cell_type": "code",
      "source": [
        "# Check your answer (Run this code cell to receive credit!)\n",
        "step_3.b.solution()"
      ],
      "metadata": {
        "execution": {
          "iopub.status.busy": "2024-08-23T16:24:07.252947Z",
          "iopub.execute_input": "2024-08-23T16:24:07.253418Z",
          "iopub.status.idle": "2024-08-23T16:24:07.264379Z",
          "shell.execute_reply.started": "2024-08-23T16:24:07.253376Z",
          "shell.execute_reply": "2024-08-23T16:24:07.263121Z"
        },
        "trusted": true,
        "id": "iq6X3KEXMy5b"
      },
      "execution_count": null,
      "outputs": []
    },
    {
      "cell_type": "markdown",
      "source": [
        "## Step 4: Take a closer look\n",
        "\n",
        "#### Part A\n",
        "\n",
        "Create the same scatter plot you created in **Step 3**, but now with a regression line!"
      ],
      "metadata": {
        "id": "1jzk_pVvMy5b"
      }
    },
    {
      "cell_type": "code",
      "source": [
        "# Scatter plot w/ regression line showing the relationship between 'sugarpercent' and 'winpercent'\n",
        "sns.regplot(data = candy_data , x = 'sugarpercent', y = 'winpercent')\n",
        "\n",
        "# Check your answer\n",
        "step_4.a.check()"
      ],
      "metadata": {
        "execution": {
          "iopub.status.busy": "2024-08-23T16:30:49.363543Z",
          "iopub.execute_input": "2024-08-23T16:30:49.364732Z",
          "iopub.status.idle": "2024-08-23T16:30:49.83915Z",
          "shell.execute_reply.started": "2024-08-23T16:30:49.364682Z",
          "shell.execute_reply": "2024-08-23T16:30:49.837833Z"
        },
        "trusted": true,
        "id": "dYYwdRpuMy5b"
      },
      "execution_count": null,
      "outputs": []
    },
    {
      "cell_type": "code",
      "source": [
        "# Lines below will give you a hint or solution code\n",
        "#step_4.a.hint()\n",
        "#step_4.a.solution_plot()"
      ],
      "metadata": {
        "id": "L59Cyxr0My5c"
      },
      "execution_count": null,
      "outputs": []
    },
    {
      "cell_type": "markdown",
      "source": [
        "#### Part B\n",
        "\n",
        "According to the plot above, is there a **slight** correlation between `'winpercent'` and `'sugarpercent'`?  What does this tell you about the candy that people tend to prefer?"
      ],
      "metadata": {
        "id": "TLEJMc36My5c"
      }
    },
    {
      "cell_type": "code",
      "source": [
        "#step_4.b.hint()"
      ],
      "metadata": {
        "id": "KNdNm25CMy5c"
      },
      "execution_count": null,
      "outputs": []
    },
    {
      "cell_type": "code",
      "source": [
        "# Check your answer (Run this code cell to receive credit!)\n",
        "step_4.b.solution()"
      ],
      "metadata": {
        "execution": {
          "iopub.status.busy": "2024-08-23T16:37:22.706276Z",
          "iopub.execute_input": "2024-08-23T16:37:22.706735Z",
          "iopub.status.idle": "2024-08-23T16:37:22.717226Z",
          "shell.execute_reply.started": "2024-08-23T16:37:22.706691Z",
          "shell.execute_reply": "2024-08-23T16:37:22.715795Z"
        },
        "trusted": true,
        "id": "j_YAYHnkMy5c"
      },
      "execution_count": null,
      "outputs": []
    },
    {
      "cell_type": "markdown",
      "source": [
        "## Step 5: Chocolate!\n",
        "\n",
        "In the code cell below, create a scatter plot to show the relationship between `'pricepercent'` (on the horizontal x-axis) and `'winpercent'` (on the vertical y-axis). Use the `'chocolate'` column to color-code the points.  _Don't add any regression lines just yet -- you'll do that in the next step!_"
      ],
      "metadata": {
        "id": "OERMdpq9My5c"
      }
    },
    {
      "cell_type": "code",
      "source": [
        "# Scatter plot showing the relationship between 'pricepercent', 'winpercent', and 'chocolate'\n",
        "sns.scatterplot(data=candy_data, x = 'pricepercent', y = 'winpercent', hue='chocolate')\n",
        "\n",
        "# Check your answer\n",
        "step_5.check()"
      ],
      "metadata": {
        "execution": {
          "iopub.status.busy": "2024-08-23T16:46:16.929037Z",
          "iopub.execute_input": "2024-08-23T16:46:16.929496Z",
          "iopub.status.idle": "2024-08-23T16:46:17.340547Z",
          "shell.execute_reply.started": "2024-08-23T16:46:16.929451Z",
          "shell.execute_reply": "2024-08-23T16:46:17.339233Z"
        },
        "trusted": true,
        "id": "1vYnuQhMMy5c"
      },
      "execution_count": null,
      "outputs": []
    },
    {
      "cell_type": "code",
      "source": [
        "# Lines below will give you a hint or solution code\n",
        "#step_5.hint()\n",
        "#step_5.solution_plot()"
      ],
      "metadata": {
        "id": "82Les7VgMy5c"
      },
      "execution_count": null,
      "outputs": []
    },
    {
      "cell_type": "markdown",
      "source": [
        "Can you see any interesting patterns in the scatter plot?  We'll investigate this plot further  by adding regression lines in the next step!\n",
        "\n",
        "## Step 6: Investigate chocolate\n",
        "\n",
        "#### Part A\n",
        "\n",
        "Create the same scatter plot you created in **Step 5**, but now with two regression lines, corresponding to (1) chocolate candies and (2) candies without chocolate."
      ],
      "metadata": {
        "id": "oFIuTEgtMy5c"
      }
    },
    {
      "cell_type": "code",
      "source": [
        "# Color-coded scatter plot w/ regression lines\n",
        "sns.lmplot(data = candy_data, x = 'pricepercent', y = 'winpercent', hue='chocolate')\n",
        "\n",
        "# Check your answer\n",
        "step_6.a.check()"
      ],
      "metadata": {
        "execution": {
          "iopub.status.busy": "2024-08-23T16:52:40.754505Z",
          "iopub.execute_input": "2024-08-23T16:52:40.755012Z",
          "iopub.status.idle": "2024-08-23T16:52:41.546342Z",
          "shell.execute_reply.started": "2024-08-23T16:52:40.754961Z",
          "shell.execute_reply": "2024-08-23T16:52:41.545243Z"
        },
        "trusted": true,
        "id": "d2p_ugI9My5d"
      },
      "execution_count": null,
      "outputs": []
    },
    {
      "cell_type": "code",
      "source": [
        "# Lines below will give you a hint or solution code\n",
        "#step_6.a.hint()\n",
        "#step_6.a.solution_plot()"
      ],
      "metadata": {
        "id": "Ckgv5pHzMy5d"
      },
      "execution_count": null,
      "outputs": []
    },
    {
      "cell_type": "markdown",
      "source": [
        "#### Part B\n",
        "\n",
        "Using the regression lines, what conclusions can you draw about the effects of chocolate and price on candy popularity?"
      ],
      "metadata": {
        "id": "YaljcMljMy5d"
      }
    },
    {
      "cell_type": "code",
      "source": [
        "#step_6.b.hint()"
      ],
      "metadata": {
        "id": "0722P8FvMy5d"
      },
      "execution_count": null,
      "outputs": []
    },
    {
      "cell_type": "code",
      "source": [
        "# Check your answer (Run this code cell to receive credit!)\n",
        "step_6.b.solution()"
      ],
      "metadata": {
        "execution": {
          "iopub.status.busy": "2024-08-23T16:54:44.963427Z",
          "iopub.execute_input": "2024-08-23T16:54:44.964484Z",
          "iopub.status.idle": "2024-08-23T16:54:44.974239Z",
          "shell.execute_reply.started": "2024-08-23T16:54:44.964431Z",
          "shell.execute_reply": "2024-08-23T16:54:44.973045Z"
        },
        "trusted": true,
        "id": "zsYxjntGMy5d"
      },
      "execution_count": null,
      "outputs": []
    },
    {
      "cell_type": "markdown",
      "source": [
        "## Step 7: Everybody loves chocolate.\n",
        "\n",
        "#### Part A\n",
        "\n",
        "Create a categorical scatter plot to highlight the relationship between `'chocolate'` and `'winpercent'`.  Put `'chocolate'` on the (horizontal) x-axis, and `'winpercent'` on the (vertical) y-axis."
      ],
      "metadata": {
        "id": "-FYsh8zLMy5d"
      }
    },
    {
      "cell_type": "code",
      "source": [
        "# Scatter plot showing the relationship between 'chocolate' and 'winpercent'\n",
        "sns.swarmplot(data = candy_data, x = 'chocolate', y = 'winpercent')\n",
        "\n",
        "# Check your answer\n",
        "step_7.a.check()"
      ],
      "metadata": {
        "execution": {
          "iopub.status.busy": "2024-08-23T17:02:58.860754Z",
          "iopub.execute_input": "2024-08-23T17:02:58.861224Z",
          "iopub.status.idle": "2024-08-23T17:02:59.397482Z",
          "shell.execute_reply.started": "2024-08-23T17:02:58.861179Z",
          "shell.execute_reply": "2024-08-23T17:02:59.395562Z"
        },
        "trusted": true,
        "id": "y4P4zX60My5d"
      },
      "execution_count": null,
      "outputs": []
    },
    {
      "cell_type": "code",
      "source": [
        "# Lines below will give you a hint or solution code\n",
        "#step_7.a.hint()\n",
        "#step_7.a.solution_plot()"
      ],
      "metadata": {
        "id": "s-AqFJFXMy5d"
      },
      "execution_count": null,
      "outputs": []
    },
    {
      "cell_type": "markdown",
      "source": [
        "#### Part B\n",
        "\n",
        "You decide to dedicate a section of your report to the fact that chocolate candies tend to be more popular than candies without chocolate.  Which plot is more appropriate to tell this story: the plot from **Step 6**, or the plot from **Step 7**?"
      ],
      "metadata": {
        "id": "9QZdJf8MMy5e"
      }
    },
    {
      "cell_type": "code",
      "source": [
        "#step_7.b.hint()"
      ],
      "metadata": {
        "id": "oox6ihHtMy5g"
      },
      "execution_count": null,
      "outputs": []
    },
    {
      "cell_type": "code",
      "source": [
        "# Check your answer (Run this code cell to receive credit!)\n",
        "step_7.b.solution()"
      ],
      "metadata": {
        "execution": {
          "iopub.status.busy": "2024-08-23T17:04:39.777404Z",
          "iopub.execute_input": "2024-08-23T17:04:39.777971Z",
          "iopub.status.idle": "2024-08-23T17:04:39.79018Z",
          "shell.execute_reply.started": "2024-08-23T17:04:39.777928Z",
          "shell.execute_reply": "2024-08-23T17:04:39.789011Z"
        },
        "trusted": true,
        "id": "a0_i9Ws0My5h"
      },
      "execution_count": null,
      "outputs": []
    },
    {
      "cell_type": "markdown",
      "source": [
        "## Keep going\n",
        "\n",
        "Explore **[histograms and density plots](https://www.kaggle.com/alexisbcook/distributions)**."
      ],
      "metadata": {
        "id": "vS34mLuNMy5h"
      }
    },
    {
      "cell_type": "markdown",
      "source": [
        "---\n",
        "\n",
        "\n",
        "\n",
        "\n",
        "*Have questions or comments? Visit the [course discussion forum](https://www.kaggle.com/learn/data-visualization/discussion) to chat with other learners.*"
      ],
      "metadata": {
        "id": "PMsUVoN9My5h"
      }
    }
  ]
}