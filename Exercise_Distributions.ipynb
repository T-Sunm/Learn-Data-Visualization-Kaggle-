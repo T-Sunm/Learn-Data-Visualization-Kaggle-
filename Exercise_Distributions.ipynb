{
  "metadata": {
    "kernelspec": {
      "display_name": "Python 3",
      "language": "python",
      "name": "python3"
    },
    "language_info": {
      "name": "python",
      "version": "3.10.14",
      "mimetype": "text/x-python",
      "codemirror_mode": {
        "name": "ipython",
        "version": 3
      },
      "pygments_lexer": "ipython3",
      "nbconvert_exporter": "python",
      "file_extension": ".py"
    },
    "kaggle": {
      "accelerator": "none",
      "dataSources": [
        {
          "sourceId": 3551030,
          "sourceType": "datasetVersion",
          "datasetId": 116573
        }
      ],
      "isInternetEnabled": false,
      "language": "python",
      "sourceType": "notebook",
      "isGpuEnabled": false
    },
    "colab": {
      "name": "Exercise: Distributions",
      "provenance": [],
      "include_colab_link": true
    }
  },
  "nbformat_minor": 0,
  "nbformat": 4,
  "cells": [
    {
      "cell_type": "markdown",
      "metadata": {
        "id": "view-in-github",
        "colab_type": "text"
      },
      "source": [
        "<a href=\"https://colab.research.google.com/github/T-Sunm/Learn-Data-Visualization-Kaggle-/blob/main/Exercise_Distributions.ipynb\" target=\"_parent\"><img src=\"https://colab.research.google.com/assets/colab-badge.svg\" alt=\"Open In Colab\"/></a>"
      ]
    },
    {
      "source": [
        "\n",
        "# IMPORTANT: RUN THIS CELL IN ORDER TO IMPORT YOUR KAGGLE DATA SOURCES\n",
        "# TO THE CORRECT LOCATION (/kaggle/input) IN YOUR NOTEBOOK,\n",
        "# THEN FEEL FREE TO DELETE THIS CELL.\n",
        "# NOTE: THIS NOTEBOOK ENVIRONMENT DIFFERS FROM KAGGLE'S PYTHON\n",
        "# ENVIRONMENT SO THERE MAY BE MISSING LIBRARIES USED BY YOUR\n",
        "# NOTEBOOK.\n",
        "\n",
        "import os\n",
        "import sys\n",
        "from tempfile import NamedTemporaryFile\n",
        "from urllib.request import urlopen\n",
        "from urllib.parse import unquote, urlparse\n",
        "from urllib.error import HTTPError\n",
        "from zipfile import ZipFile\n",
        "import tarfile\n",
        "import shutil\n",
        "\n",
        "CHUNK_SIZE = 40960\n",
        "DATA_SOURCE_MAPPING = ':https%3A%2F%2Fstorage.googleapis.com%2Fkaggle-data-sets%2F116573%2F3551030%2Fbundle%2Farchive.zip%3FX-Goog-Algorithm%3DGOOG4-RSA-SHA256%26X-Goog-Credential%3Dgcp-kaggle-com%2540kaggle-161607.iam.gserviceaccount.com%252F20240824%252Fauto%252Fstorage%252Fgoog4_request%26X-Goog-Date%3D20240824T154653Z%26X-Goog-Expires%3D259200%26X-Goog-SignedHeaders%3Dhost%26X-Goog-Signature%3D6c7914ab560c250878f9df899d58c092f5fd2043cba4ac63aae006c0b0dbcd83108838eb02e5480eaa617ccb7ed547fbce7879a500add8fcea9ab284d2288b1f4b954b02851c6ee66b74ba984fee1cb315f61057504702bc96e0529816dcb69b28e03b8d8628a7ca6e0efc8ca0ae34ef17181fedb2c48338b18fc3f9627b36b35cf6e54a905ce713b9272dd739e0cf6ec4fd5c54fb1241483d1d60cf06c19da58a8f4c499259fbfff691355e8bf8e683142c7e38708616bb8c5a9f9a76449cbb2c684af84bb524525823df6145115599cc08d456ec0b737de27a7c82b1549d39577b9b423714be3b9185fdae5918931e16c448803933c70edc8eb7a5fe5f4e15'\n",
        "\n",
        "KAGGLE_INPUT_PATH='/kaggle/input'\n",
        "KAGGLE_WORKING_PATH='/kaggle/working'\n",
        "KAGGLE_SYMLINK='kaggle'\n",
        "\n",
        "!umount /kaggle/input/ 2> /dev/null\n",
        "shutil.rmtree('/kaggle/input', ignore_errors=True)\n",
        "os.makedirs(KAGGLE_INPUT_PATH, 0o777, exist_ok=True)\n",
        "os.makedirs(KAGGLE_WORKING_PATH, 0o777, exist_ok=True)\n",
        "\n",
        "try:\n",
        "  os.symlink(KAGGLE_INPUT_PATH, os.path.join(\"..\", 'input'), target_is_directory=True)\n",
        "except FileExistsError:\n",
        "  pass\n",
        "try:\n",
        "  os.symlink(KAGGLE_WORKING_PATH, os.path.join(\"..\", 'working'), target_is_directory=True)\n",
        "except FileExistsError:\n",
        "  pass\n",
        "\n",
        "for data_source_mapping in DATA_SOURCE_MAPPING.split(','):\n",
        "    directory, download_url_encoded = data_source_mapping.split(':')\n",
        "    download_url = unquote(download_url_encoded)\n",
        "    filename = urlparse(download_url).path\n",
        "    destination_path = os.path.join(KAGGLE_INPUT_PATH, directory)\n",
        "    try:\n",
        "        with urlopen(download_url) as fileres, NamedTemporaryFile() as tfile:\n",
        "            total_length = fileres.headers['content-length']\n",
        "            print(f'Downloading {directory}, {total_length} bytes compressed')\n",
        "            dl = 0\n",
        "            data = fileres.read(CHUNK_SIZE)\n",
        "            while len(data) > 0:\n",
        "                dl += len(data)\n",
        "                tfile.write(data)\n",
        "                done = int(50 * dl / int(total_length))\n",
        "                sys.stdout.write(f\"\\r[{'=' * done}{' ' * (50-done)}] {dl} bytes downloaded\")\n",
        "                sys.stdout.flush()\n",
        "                data = fileres.read(CHUNK_SIZE)\n",
        "            if filename.endswith('.zip'):\n",
        "              with ZipFile(tfile) as zfile:\n",
        "                zfile.extractall(destination_path)\n",
        "            else:\n",
        "              with tarfile.open(tfile.name) as tarfile:\n",
        "                tarfile.extractall(destination_path)\n",
        "            print(f'\\nDownloaded and uncompressed: {directory}')\n",
        "    except HTTPError as e:\n",
        "        print(f'Failed to load (likely expired) {download_url} to path {destination_path}')\n",
        "        continue\n",
        "    except OSError as e:\n",
        "        print(f'Failed to load {download_url} to path {destination_path}')\n",
        "        continue\n",
        "\n",
        "print('Data source import complete.')\n"
      ],
      "metadata": {
        "id": "x35e3ImZEPpL"
      },
      "cell_type": "code",
      "outputs": [],
      "execution_count": null
    },
    {
      "cell_type": "markdown",
      "source": [
        "**This notebook is an exercise in the [Data Visualization](https://www.kaggle.com/learn/data-visualization) course.  You can reference the tutorial at [this link](https://www.kaggle.com/alexisbcook/distributions).**\n",
        "\n",
        "---\n"
      ],
      "metadata": {
        "id": "e-TENJsEEPpO"
      }
    },
    {
      "cell_type": "markdown",
      "source": [
        "In this exercise, you will use your new knowledge to propose a solution to a real-world scenario.  To succeed, you will need to import data into Python, answer questions using the data, and generate **histograms** and **density plots** to understand patterns in the data.\n",
        "\n",
        "## Scenario\n",
        "\n",
        "You'll work with a real-world dataset containing information collected from microscopic images of breast cancer tumors, similar to the image below.\n",
        "\n",
        "![ex4_cancer_image](https://storage.googleapis.com/kaggle-media/learn/images/qUESsJe.png)\n",
        "\n",
        "Each tumor has been labeled as either [**benign**](https://en.wikipedia.org/wiki/Benign_tumor) (_noncancerous_) or **malignant** (_cancerous_).\n",
        "\n",
        "To learn more about how this kind of data is used to create intelligent algorithms to classify tumors in medical settings, **watch the short video [at this link](https://www.youtube.com/watch?v=9Mz84cwVmS0)**."
      ],
      "metadata": {
        "id": "nZXvEOYAEPpQ"
      }
    },
    {
      "cell_type": "markdown",
      "source": [
        "\n",
        "\n",
        "## Setup\n",
        "\n",
        "Run the next cell to import and configure the Python libraries that you need to complete the exercise."
      ],
      "metadata": {
        "id": "JSfYombuEPpQ"
      }
    },
    {
      "cell_type": "code",
      "source": [
        "import pandas as pd\n",
        "pd.plotting.register_matplotlib_converters()\n",
        "import matplotlib.pyplot as plt\n",
        "%matplotlib inline\n",
        "import seaborn as sns\n",
        "print(\"Setup Complete\")"
      ],
      "metadata": {
        "execution": {
          "iopub.status.busy": "2024-08-24T14:30:04.48211Z",
          "iopub.execute_input": "2024-08-24T14:30:04.482491Z",
          "iopub.status.idle": "2024-08-24T14:30:06.369204Z",
          "shell.execute_reply.started": "2024-08-24T14:30:04.482454Z",
          "shell.execute_reply": "2024-08-24T14:30:06.368197Z"
        },
        "trusted": true,
        "id": "rBBSsFDeEPpQ"
      },
      "execution_count": null,
      "outputs": []
    },
    {
      "cell_type": "markdown",
      "source": [
        "The questions below will give you feedback on your work. Run the following cell to set up our feedback system."
      ],
      "metadata": {
        "id": "Vonz1krPEPpR"
      }
    },
    {
      "cell_type": "code",
      "source": [
        "# Set up code checking\n",
        "from learntools.core import binder\n",
        "binder.bind(globals())\n",
        "from learntools.data_viz_to_coder.ex5 import *\n",
        "print(\"Setup Complete\")"
      ],
      "metadata": {
        "execution": {
          "iopub.status.busy": "2024-08-24T14:32:30.809415Z",
          "iopub.execute_input": "2024-08-24T14:32:30.809845Z",
          "iopub.status.idle": "2024-08-24T14:32:30.816067Z",
          "shell.execute_reply.started": "2024-08-24T14:32:30.809807Z",
          "shell.execute_reply": "2024-08-24T14:32:30.815036Z"
        },
        "trusted": true,
        "id": "XDPJYndzEPpR"
      },
      "execution_count": null,
      "outputs": []
    },
    {
      "cell_type": "markdown",
      "source": [
        "## Step 1: Load the data\n",
        "\n",
        "In this step, you will load the data.\n",
        "- Load the data file into a DataFrame called `cancer_data`.  \n",
        "- The corresponding filepath is `cancer_filepath`.  \n",
        "- Use the `\"Id\"` column to label the rows."
      ],
      "metadata": {
        "id": "vc_UTi7QEPpR"
      }
    },
    {
      "cell_type": "code",
      "source": [
        "# Path of the files to read\n",
        "cancer_filepath = \"../input/cancer.csv\"\n",
        "\n",
        "# Fill in the line below to read the file into a variable cancer_data\n",
        "cancer_data = pd.read_csv(cancer_filepath, index_col='Id')\n",
        "\n",
        "# Run the line below with no changes to check that you've loaded the data correctly\n",
        "step_1.check()"
      ],
      "metadata": {
        "execution": {
          "iopub.status.busy": "2024-08-24T14:32:59.368029Z",
          "iopub.execute_input": "2024-08-24T14:32:59.368429Z",
          "iopub.status.idle": "2024-08-24T14:32:59.386719Z",
          "shell.execute_reply.started": "2024-08-24T14:32:59.368392Z",
          "shell.execute_reply": "2024-08-24T14:32:59.385764Z"
        },
        "trusted": true,
        "id": "fKWYTMbVEPpS"
      },
      "execution_count": null,
      "outputs": []
    },
    {
      "cell_type": "code",
      "source": [
        "# Lines below will give you a hint or solution code\n",
        "#step_1.hint()\n",
        "#step_1.solution()"
      ],
      "metadata": {
        "id": "c0uVC0htEPpS"
      },
      "execution_count": null,
      "outputs": []
    },
    {
      "cell_type": "markdown",
      "source": [
        "## Step 2: Review the data\n",
        "\n",
        "Use a Python command to print the first 5 rows of the data."
      ],
      "metadata": {
        "id": "sVapiP0bEPpT"
      }
    },
    {
      "cell_type": "code",
      "source": [
        "# Print the first five rows of the data\n",
        "cancer_data.head()"
      ],
      "metadata": {
        "execution": {
          "iopub.status.busy": "2024-08-24T14:33:24.358136Z",
          "iopub.execute_input": "2024-08-24T14:33:24.358825Z",
          "iopub.status.idle": "2024-08-24T14:33:24.392737Z",
          "shell.execute_reply.started": "2024-08-24T14:33:24.358786Z",
          "shell.execute_reply": "2024-08-24T14:33:24.39155Z"
        },
        "trusted": true,
        "id": "v5FHzAI2EPpT"
      },
      "execution_count": null,
      "outputs": []
    },
    {
      "cell_type": "markdown",
      "source": [
        "In the dataset, each row corresponds to a different image.  The dataset has 31 different columns, corresponding to:\n",
        "- 1 column (`'Diagnosis'`) that classifies tumors as either benign (which appears in the dataset as **`B`**) or malignant (__`M`__), and\n",
        "- 30 columns containing different measurements collected from the images.\n",
        "\n",
        "Use the first 5 rows of the data to answer the questions below."
      ],
      "metadata": {
        "id": "rRDgEaoNEPpT"
      }
    },
    {
      "cell_type": "code",
      "source": [
        "mean_radius = cancer_data.loc[cancer_data.index == 8510824]['Radius (mean)'].values[0]\n",
        "mean_radius"
      ],
      "metadata": {
        "execution": {
          "iopub.status.busy": "2024-08-24T14:49:25.635192Z",
          "iopub.execute_input": "2024-08-24T14:49:25.635609Z",
          "iopub.status.idle": "2024-08-24T14:49:25.644258Z",
          "shell.execute_reply.started": "2024-08-24T14:49:25.635571Z",
          "shell.execute_reply": "2024-08-24T14:49:25.643017Z"
        },
        "trusted": true,
        "id": "PZdC0uXiEPpT"
      },
      "execution_count": null,
      "outputs": []
    },
    {
      "cell_type": "code",
      "source": [
        "# Fill in the line below: In the first five rows of the data, what is the\n",
        "# largest value for 'Perimeter (mean)'?\n",
        "max_perim = cancer_data['Perimeter (mean)'].head().max()\n",
        "\n",
        "# Fill in the line below: What is the value for 'Radius (mean)' for the tumor with Id 8510824?\n",
        "mean_radius = cancer_data.loc[cancer_data.index == 8510824]['Radius (mean)'].values[0]\n",
        "\n",
        "# Check your answers\n",
        "step_2.check()"
      ],
      "metadata": {
        "execution": {
          "iopub.status.busy": "2024-08-24T14:49:31.905413Z",
          "iopub.execute_input": "2024-08-24T14:49:31.906072Z",
          "iopub.status.idle": "2024-08-24T14:49:31.918934Z",
          "shell.execute_reply.started": "2024-08-24T14:49:31.906035Z",
          "shell.execute_reply": "2024-08-24T14:49:31.917898Z"
        },
        "trusted": true,
        "id": "Ev6VZIP0EPpT"
      },
      "execution_count": null,
      "outputs": []
    },
    {
      "cell_type": "code",
      "source": [
        "# Lines below will give you a hint or solution code\n",
        "#step_2.hint()\n",
        "# step_2.solution()"
      ],
      "metadata": {
        "execution": {
          "iopub.status.busy": "2024-08-24T14:50:34.633523Z",
          "iopub.execute_input": "2024-08-24T14:50:34.63444Z",
          "iopub.status.idle": "2024-08-24T14:50:34.638342Z",
          "shell.execute_reply.started": "2024-08-24T14:50:34.634389Z",
          "shell.execute_reply": "2024-08-24T14:50:34.637254Z"
        },
        "trusted": true,
        "id": "sVQ1fGpOEPpT"
      },
      "execution_count": null,
      "outputs": []
    },
    {
      "cell_type": "markdown",
      "source": [
        "## Step 3: Investigating differences"
      ],
      "metadata": {
        "id": "tMEQUP_NEPpU"
      }
    },
    {
      "cell_type": "markdown",
      "source": [
        "#### Part A\n",
        "\n",
        "Use the code cell below to create two histograms that show the distribution in values for `'Area (mean)'`, separately for both benign and malignant tumors.  (_To permit easy comparison, create a single figure containing both histograms in the code cell below._)"
      ],
      "metadata": {
        "id": "2ke0DnHfEPpU"
      }
    },
    {
      "cell_type": "code",
      "source": [
        "data_to_plot = cancer_data[['Diagnosis' ,'Area (mean)']]\n",
        "data_to_plot"
      ],
      "metadata": {
        "execution": {
          "iopub.status.busy": "2024-08-24T15:13:20.213465Z",
          "iopub.execute_input": "2024-08-24T15:13:20.213883Z",
          "iopub.status.idle": "2024-08-24T15:13:20.228867Z",
          "shell.execute_reply.started": "2024-08-24T15:13:20.213844Z",
          "shell.execute_reply": "2024-08-24T15:13:20.227407Z"
        },
        "trusted": true,
        "id": "mmZxAmZiEPpU"
      },
      "execution_count": null,
      "outputs": []
    },
    {
      "cell_type": "code",
      "source": [
        "# Histograms for benign and maligant tumors\n",
        "sns.histplot(data = data_to_plot, x='Area (mean)', hue='Diagnosis')\n",
        "\n",
        "# Check your answer\n",
        "step_3.a.check()"
      ],
      "metadata": {
        "execution": {
          "iopub.status.busy": "2024-08-24T15:16:13.888401Z",
          "iopub.execute_input": "2024-08-24T15:16:13.888791Z",
          "iopub.status.idle": "2024-08-24T15:16:14.234283Z",
          "shell.execute_reply.started": "2024-08-24T15:16:13.888756Z",
          "shell.execute_reply": "2024-08-24T15:16:14.233281Z"
        },
        "trusted": true,
        "id": "JArJS4ECEPpU"
      },
      "execution_count": null,
      "outputs": []
    },
    {
      "cell_type": "code",
      "source": [
        "# Lines below will give you a hint or solution code\n",
        "#step_3.a.hint()\n",
        "#step_3.a.solution_plot()"
      ],
      "metadata": {
        "id": "YU4C-VzkEPpU"
      },
      "execution_count": null,
      "outputs": []
    },
    {
      "cell_type": "markdown",
      "source": [
        "#### Part B\n",
        "\n",
        "A researcher approaches you for help with identifying how the `'Area (mean)'` column can be used to understand the difference between benign and malignant tumors.  Based on the histograms above,\n",
        "- Do malignant tumors have higher or lower values for `'Area (mean)'` (relative to benign tumors), on average?\n",
        "- Which tumor type seems to have a larger range of potential values?"
      ],
      "metadata": {
        "id": "wWBVzSozEPpU"
      }
    },
    {
      "cell_type": "markdown",
      "source": [
        "- malignant higher values Area than benign\n",
        "- malignant"
      ],
      "metadata": {
        "id": "0Cr_AgptEPpU"
      }
    },
    {
      "cell_type": "code",
      "source": [
        "#step_3.b.hint()"
      ],
      "metadata": {
        "id": "X7U4aoxdEPpU"
      },
      "execution_count": null,
      "outputs": []
    },
    {
      "cell_type": "code",
      "source": [
        "# Check your answer (Run this code cell to receive credit!)\n",
        "step_3.b.solution()"
      ],
      "metadata": {
        "execution": {
          "iopub.status.busy": "2024-08-24T15:20:21.022484Z",
          "iopub.execute_input": "2024-08-24T15:20:21.023252Z",
          "iopub.status.idle": "2024-08-24T15:20:21.031545Z",
          "shell.execute_reply.started": "2024-08-24T15:20:21.023198Z",
          "shell.execute_reply": "2024-08-24T15:20:21.030287Z"
        },
        "trusted": true,
        "id": "hTvnwXVLEPpU"
      },
      "execution_count": null,
      "outputs": []
    },
    {
      "cell_type": "markdown",
      "source": [
        "## Step 4: A very useful column\n",
        "\n",
        "#### Part A\n",
        "\n",
        "Use the code cell below to create two KDE plots that show the distribution in values for `'Radius (worst)'`, separately for both benign and malignant tumors.  (_To permit easy comparison, create a single figure containing both KDE plots in the code cell below._)"
      ],
      "metadata": {
        "id": "vTcizI1uEPpV"
      }
    },
    {
      "cell_type": "code",
      "source": [
        "# KDE plots for benign and malignant tumors\n",
        "sns.kdeplot(data=cancer_data, x='Radius (worst)' ,hue=\"Diagnosis\", fill=True)\n",
        "\n",
        "# Check your answer\n",
        "step_4.a.check()"
      ],
      "metadata": {
        "execution": {
          "iopub.status.busy": "2024-08-24T15:31:21.539896Z",
          "iopub.execute_input": "2024-08-24T15:31:21.540292Z",
          "iopub.status.idle": "2024-08-24T15:31:21.874772Z",
          "shell.execute_reply.started": "2024-08-24T15:31:21.54025Z",
          "shell.execute_reply": "2024-08-24T15:31:21.873714Z"
        },
        "trusted": true,
        "id": "pFvunzBOEPpV"
      },
      "execution_count": null,
      "outputs": []
    },
    {
      "cell_type": "code",
      "source": [
        "# Lines below will give you a hint or solution code\n",
        "#step_4.a.hint()\n",
        "# step_4.a.solution_plot()"
      ],
      "metadata": {
        "execution": {
          "iopub.status.busy": "2024-08-24T15:43:35.636018Z",
          "iopub.execute_input": "2024-08-24T15:43:35.636426Z",
          "iopub.status.idle": "2024-08-24T15:43:35.641019Z",
          "shell.execute_reply.started": "2024-08-24T15:43:35.636387Z",
          "shell.execute_reply": "2024-08-24T15:43:35.63993Z"
        },
        "trusted": true,
        "id": "SYGAjChFEPpV"
      },
      "execution_count": null,
      "outputs": []
    },
    {
      "cell_type": "markdown",
      "source": [
        "#### Part B\n",
        "\n",
        "A hospital has recently started using an algorithm that can diagnose tumors with high accuracy.  Given a tumor with a value for `'Radius (worst)'` of 25, do you think the algorithm is more likely to classify the tumor as benign or malignant?"
      ],
      "metadata": {
        "id": "r6Jk0V_OEPpV"
      }
    },
    {
      "cell_type": "code",
      "source": [
        "#step_4.b.hint()"
      ],
      "metadata": {
        "id": "u2uVDDpAEPpV"
      },
      "execution_count": null,
      "outputs": []
    },
    {
      "cell_type": "code",
      "source": [
        "# Check your answer (Run this code cell to receive credit!)\n",
        "step_4.b.solution()"
      ],
      "metadata": {
        "execution": {
          "iopub.status.busy": "2024-08-24T15:41:56.672619Z",
          "iopub.execute_input": "2024-08-24T15:41:56.673026Z",
          "iopub.status.idle": "2024-08-24T15:41:56.681141Z",
          "shell.execute_reply.started": "2024-08-24T15:41:56.672991Z",
          "shell.execute_reply": "2024-08-24T15:41:56.680172Z"
        },
        "trusted": true,
        "id": "d7qCJ_TSEPpV"
      },
      "execution_count": null,
      "outputs": []
    },
    {
      "cell_type": "markdown",
      "source": [
        "## Keep going\n",
        "\n",
        "Review all that you've learned and explore how to further customize your plots in the **[next tutorial](https://www.kaggle.com/alexisbcook/choosing-plot-types-and-custom-styles)**!"
      ],
      "metadata": {
        "id": "q12wVPWfEPpW"
      }
    },
    {
      "cell_type": "markdown",
      "source": [
        "---\n",
        "\n",
        "\n",
        "\n",
        "\n",
        "*Have questions or comments? Visit the [course discussion forum](https://www.kaggle.com/learn/data-visualization/discussion) to chat with other learners.*"
      ],
      "metadata": {
        "id": "kjWwkNrJEPpW"
      }
    }
  ]
}