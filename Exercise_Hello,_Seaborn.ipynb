{
  "metadata": {
    "kernelspec": {
      "display_name": "Python 3",
      "language": "python",
      "name": "python3"
    },
    "language_info": {
      "name": "python",
      "version": "3.10.14",
      "mimetype": "text/x-python",
      "codemirror_mode": {
        "name": "ipython",
        "version": 3
      },
      "pygments_lexer": "ipython3",
      "nbconvert_exporter": "python",
      "file_extension": ".py"
    },
    "kaggle": {
      "accelerator": "none",
      "dataSources": [
        {
          "sourceId": 3551030,
          "sourceType": "datasetVersion",
          "datasetId": 116573
        }
      ],
      "isInternetEnabled": false,
      "language": "python",
      "sourceType": "notebook",
      "isGpuEnabled": false
    },
    "colab": {
      "name": "Exercise: Hello, Seaborn",
      "provenance": [],
      "include_colab_link": true
    }
  },
  "nbformat_minor": 0,
  "nbformat": 4,
  "cells": [
    {
      "cell_type": "markdown",
      "metadata": {
        "id": "view-in-github",
        "colab_type": "text"
      },
      "source": [
        "<a href=\"https://colab.research.google.com/github/T-Sunm/Learn-Data-Visualization-Kaggle-/blob/main/Exercise_Hello%2C_Seaborn.ipynb\" target=\"_parent\"><img src=\"https://colab.research.google.com/assets/colab-badge.svg\" alt=\"Open In Colab\"/></a>"
      ]
    },
    {
      "source": [
        "\n",
        "# IMPORTANT: RUN THIS CELL IN ORDER TO IMPORT YOUR KAGGLE DATA SOURCES\n",
        "# TO THE CORRECT LOCATION (/kaggle/input) IN YOUR NOTEBOOK,\n",
        "# THEN FEEL FREE TO DELETE THIS CELL.\n",
        "# NOTE: THIS NOTEBOOK ENVIRONMENT DIFFERS FROM KAGGLE'S PYTHON\n",
        "# ENVIRONMENT SO THERE MAY BE MISSING LIBRARIES USED BY YOUR\n",
        "# NOTEBOOK.\n",
        "\n",
        "import os\n",
        "import sys\n",
        "from tempfile import NamedTemporaryFile\n",
        "from urllib.request import urlopen\n",
        "from urllib.parse import unquote, urlparse\n",
        "from urllib.error import HTTPError\n",
        "from zipfile import ZipFile\n",
        "import tarfile\n",
        "import shutil\n",
        "\n",
        "CHUNK_SIZE = 40960\n",
        "DATA_SOURCE_MAPPING = ':https%3A%2F%2Fstorage.googleapis.com%2Fkaggle-data-sets%2F116573%2F3551030%2Fbundle%2Farchive.zip%3FX-Goog-Algorithm%3DGOOG4-RSA-SHA256%26X-Goog-Credential%3Dgcp-kaggle-com%2540kaggle-161607.iam.gserviceaccount.com%252F20240822%252Fauto%252Fstorage%252Fgoog4_request%26X-Goog-Date%3D20240822T125513Z%26X-Goog-Expires%3D259200%26X-Goog-SignedHeaders%3Dhost%26X-Goog-Signature%3D60a03ba61ba6aa921bd29c107c96e2300ee310463becaf3d72dccdddd86acd6ec7ca1d081d4064dafed39787712131ac8d801892e98715c28e7c12c278bdcb79f6b9d7230cdd8a7fb7be10ae307924435b96ddd3e5ec8da1f305b41f0ae955304c7b23820225499382d02ab3c764f84c95d4de09875c2bbea7d33f46a7a1e1147935261e0b3939a1a28ab8ec2eadf2ed9ff4dd01eb4905b870deed15ad3f60894eeabd5ef09a77d9a2d6f09ddb16aa291bc127389cbee76f9ec34a4d45cd39d5df25eec4037229abca9d7f7e8995b421a5694ed4ce19feda43aa86b068b0f715fffd2fe616d64aea3d654839283e9b284cdb50e911c7c10e26ef5e804b59283f'\n",
        "\n",
        "KAGGLE_INPUT_PATH='/kaggle/input'\n",
        "KAGGLE_WORKING_PATH='/kaggle/working'\n",
        "KAGGLE_SYMLINK='kaggle'\n",
        "\n",
        "!umount /kaggle/input/ 2> /dev/null\n",
        "shutil.rmtree('/kaggle/input', ignore_errors=True)\n",
        "os.makedirs(KAGGLE_INPUT_PATH, 0o777, exist_ok=True)\n",
        "os.makedirs(KAGGLE_WORKING_PATH, 0o777, exist_ok=True)\n",
        "\n",
        "try:\n",
        "  os.symlink(KAGGLE_INPUT_PATH, os.path.join(\"..\", 'input'), target_is_directory=True)\n",
        "except FileExistsError:\n",
        "  pass\n",
        "try:\n",
        "  os.symlink(KAGGLE_WORKING_PATH, os.path.join(\"..\", 'working'), target_is_directory=True)\n",
        "except FileExistsError:\n",
        "  pass\n",
        "\n",
        "for data_source_mapping in DATA_SOURCE_MAPPING.split(','):\n",
        "    directory, download_url_encoded = data_source_mapping.split(':')\n",
        "    download_url = unquote(download_url_encoded)\n",
        "    filename = urlparse(download_url).path\n",
        "    destination_path = os.path.join(KAGGLE_INPUT_PATH, directory)\n",
        "    try:\n",
        "        with urlopen(download_url) as fileres, NamedTemporaryFile() as tfile:\n",
        "            total_length = fileres.headers['content-length']\n",
        "            print(f'Downloading {directory}, {total_length} bytes compressed')\n",
        "            dl = 0\n",
        "            data = fileres.read(CHUNK_SIZE)\n",
        "            while len(data) > 0:\n",
        "                dl += len(data)\n",
        "                tfile.write(data)\n",
        "                done = int(50 * dl / int(total_length))\n",
        "                sys.stdout.write(f\"\\r[{'=' * done}{' ' * (50-done)}] {dl} bytes downloaded\")\n",
        "                sys.stdout.flush()\n",
        "                data = fileres.read(CHUNK_SIZE)\n",
        "            if filename.endswith('.zip'):\n",
        "              with ZipFile(tfile) as zfile:\n",
        "                zfile.extractall(destination_path)\n",
        "            else:\n",
        "              with tarfile.open(tfile.name) as tarfile:\n",
        "                tarfile.extractall(destination_path)\n",
        "            print(f'\\nDownloaded and uncompressed: {directory}')\n",
        "    except HTTPError as e:\n",
        "        print(f'Failed to load (likely expired) {download_url} to path {destination_path}')\n",
        "        continue\n",
        "    except OSError as e:\n",
        "        print(f'Failed to load {download_url} to path {destination_path}')\n",
        "        continue\n",
        "\n",
        "print('Data source import complete.')\n"
      ],
      "metadata": {
        "id": "SgNemttYJybI"
      },
      "cell_type": "code",
      "outputs": [],
      "execution_count": null
    },
    {
      "cell_type": "markdown",
      "source": [
        "**This notebook is an exercise in the [Data Visualization](https://www.kaggle.com/learn/data-visualization) course.  You can reference the tutorial at [this link](https://www.kaggle.com/alexisbcook/hello-seaborn).**\n",
        "\n",
        "---\n"
      ],
      "metadata": {
        "id": "Um-0rBP9JybM"
      }
    },
    {
      "cell_type": "markdown",
      "source": [
        "In this exercise, you will write your first lines of code and learn how to use the coding environment for the course!\n",
        "\n",
        "## Setup\n",
        "\n",
        "First, you'll learn how to run code, and we'll start with the code cell below.  (Remember that a **code cell** in a notebook is just a gray box containing code that we'd like to run.)\n",
        "- Begin by clicking inside the code cell.  \n",
        "- Click on the blue triangle (in the shape of a \"Play button\") that appears to the left of the code cell.\n",
        "- If your code was run sucessfully, you will see `Setup Complete` as output below the cell.\n",
        "\n",
        "![ex0_run_code](https://storage.googleapis.com/kaggle-media/learn/images/4NzqJ7G.png)"
      ],
      "metadata": {
        "id": "GahlEsaCJybN"
      }
    },
    {
      "cell_type": "markdown",
      "source": [
        "The code cell below imports and configures the Python libraries that you need to complete the exercise.\n",
        "\n",
        "Click on the cell and run it."
      ],
      "metadata": {
        "id": "cu8swKA7JybN"
      }
    },
    {
      "cell_type": "code",
      "source": [
        "import pandas as pd\n",
        "pd.plotting.register_matplotlib_converters()\n",
        "import matplotlib.pyplot as plt\n",
        "%matplotlib inline\n",
        "import seaborn as sns\n",
        "\n",
        "# Set up code checking\n",
        "import os\n",
        "if not os.path.exists(\"../input/fifa.csv\"):\n",
        "    os.symlink(\"../input/data-for-datavis/fifa.csv\", \"../input/fifa.csv\")\n",
        "from learntools.core import binder\n",
        "binder.bind(globals())\n",
        "from learntools.data_viz_to_coder.ex1 import *\n",
        "print(\"Setup Complete\")"
      ],
      "metadata": {
        "execution": {
          "iopub.status.busy": "2024-08-22T12:53:02.483457Z",
          "iopub.execute_input": "2024-08-22T12:53:02.48386Z",
          "iopub.status.idle": "2024-08-22T12:53:04.987705Z",
          "shell.execute_reply.started": "2024-08-22T12:53:02.483816Z",
          "shell.execute_reply": "2024-08-22T12:53:04.986193Z"
        },
        "trusted": true,
        "id": "hXA70s6HJybN"
      },
      "execution_count": null,
      "outputs": []
    },
    {
      "cell_type": "markdown",
      "source": [
        "The code you just ran sets up the system to give you feedback on your work.  You'll learn more about the feedback system in the next step.\n",
        "\n",
        "## Step 1: Explore the feedback system\n",
        "\n",
        "Each  exercise lets you test your new skills with a real-world dataset.  Along the way, you'll receive feedback on your work.  You'll see if your answer is right, get customized hints, and see the official solution (_if you'd like to take a look!_).\n",
        "\n",
        "To explore the feedback system, we'll start with a simple example of a coding problem.  Follow the following steps in order:\n",
        "1. Run the code cell below without making any edits.  It will show the following output:\n",
        "> <font color='#ccaa33'>Check:</font> When you've updated the starter code, `check()` will tell you whether your code is correct. You need to update the code that creates variable `one`\n",
        "\n",
        "    This means you need to change the code to set the variable `one` to something other than the blank provided below (`____`).\n",
        "\n",
        "\n",
        "2. Replace the underline with a `2`, so that the line of code appears as `one = 2`.  Then, run the code cell.  This should return the following output:\n",
        "> <font color='#cc3333'>Incorrect:</font> Incorrect value for `one`: `2`\n",
        "\n",
        "    This means we still have the wrong answer to the question.\n",
        "\n",
        "\n",
        "3. Now, change the `2` to `1`, so that the line of code appears as `one = 1`. Then, run the code cell. The answer should be marked as <font color='#33cc33'>Correct</font>. You have now completed this problem!"
      ],
      "metadata": {
        "id": "mTlhsNI9JybO"
      }
    },
    {
      "cell_type": "code",
      "source": [
        "# Fill in the line below\n",
        "one = 1\n",
        "\n",
        "# Check your answer\n",
        "step_1.check()"
      ],
      "metadata": {
        "execution": {
          "iopub.status.busy": "2024-08-22T12:53:23.218806Z",
          "iopub.execute_input": "2024-08-22T12:53:23.219257Z",
          "iopub.status.idle": "2024-08-22T12:53:23.23106Z",
          "shell.execute_reply.started": "2024-08-22T12:53:23.219216Z",
          "shell.execute_reply": "2024-08-22T12:53:23.229856Z"
        },
        "trusted": true,
        "id": "io2ckC1CJybO"
      },
      "execution_count": null,
      "outputs": []
    },
    {
      "cell_type": "markdown",
      "source": [
        "In this exercise, you were responsible for filling in the line of code that sets the value of variable `one`.  **Don't edit the code that checks your answer.**  You'll need to run the lines of code like `step_1.check()` and `step_2.check()` just as they are provided.\n",
        "\n",
        "This problem was relatively straightforward, but for more difficult problems, you may like to receive a hint or view the official solution.  Run the code cell below now to receive both for this problem."
      ],
      "metadata": {
        "id": "ft4acuJ0JybO"
      }
    },
    {
      "cell_type": "code",
      "source": [
        "step_1.hint()\n",
        "step_1.solution()"
      ],
      "metadata": {
        "id": "yZNEpWbIJybP"
      },
      "execution_count": null,
      "outputs": []
    },
    {
      "cell_type": "markdown",
      "source": [
        "## Step 2: Load the data\n",
        "\n",
        "You are ready to get started with some data visualization!  You'll begin by loading the dataset from the previous tutorial.  \n",
        "\n",
        "The code you need is already provided in the cell below. Just run that cell. If it shows <font color='#33cc33'>Correct</font> result, you're ready to move on!"
      ],
      "metadata": {
        "id": "kJuCbygiJybP"
      }
    },
    {
      "cell_type": "code",
      "source": [
        "# Path of the file to read\n",
        "fifa_filepath = \"../input/fifa.csv\"\n",
        "\n",
        "# Read the file into a variable fifa_data\n",
        "fifa_data = pd.read_csv(fifa_filepath, index_col=\"Date\", parse_dates=True)\n",
        "\n",
        "# Check your answer\n",
        "step_2.check()"
      ],
      "metadata": {
        "execution": {
          "iopub.status.busy": "2024-08-22T12:53:52.675998Z",
          "iopub.execute_input": "2024-08-22T12:53:52.677008Z",
          "iopub.status.idle": "2024-08-22T12:53:52.693561Z",
          "shell.execute_reply.started": "2024-08-22T12:53:52.676942Z",
          "shell.execute_reply": "2024-08-22T12:53:52.692207Z"
        },
        "trusted": true,
        "id": "-R-Qi2fuJybP"
      },
      "execution_count": null,
      "outputs": []
    },
    {
      "cell_type": "markdown",
      "source": [
        "Next, recall the difference between comments and executable code:\n",
        "- **Comments** are preceded by a pound sign (`#`) and contain text that appear faded and italicized.  They are completely ignored by the computer when the code is run.\n",
        "- **Executable code** is code that is run by the computer.\n",
        "\n",
        "In the code cell below, every line is a comment:\n",
        "```python\n",
        "# Uncomment the line below to receive a hint\n",
        "#step_2.hint()\n",
        "#step_2.solution()\n",
        "```\n",
        "\n",
        "If you run the code cell below without making any changes, it won't return any output.  Try this now!"
      ],
      "metadata": {
        "id": "_v_tMZmXJybP"
      }
    },
    {
      "cell_type": "code",
      "source": [
        "# Uncomment the line below to receive a hint\n",
        "#step_2.hint()\n",
        "# Uncomment the line below to see the solution\n",
        "#step_2.solution()"
      ],
      "metadata": {
        "id": "qNMMNVI2JybP"
      },
      "execution_count": null,
      "outputs": []
    },
    {
      "cell_type": "markdown",
      "source": [
        "Next, remove the pound sign before `step_2.hint()` so that the code cell above appears as follows:\n",
        "```python\n",
        "# Uncomment the line below to receive a hint\n",
        "step_2.hint()\n",
        "#step_2.solution()\n",
        "```\n",
        "When we remove the pound sign before a line of code, we say we **uncomment** the line.  This turns the comment into a line of executable code that is run by the computer.  Run the code cell now, which should return the <font color='#3366cc'>Hint</font> as output.\n",
        "\n",
        "Finally, uncomment the line to see the solution, so the code cell appears as follows:\n",
        "```python\n",
        "# Uncomment the line below to receive a hint\n",
        "step_2.hint()\n",
        "step_2.solution()\n",
        "```\n",
        "Then, run the code cell.  You should receive both a <font color='#3366cc'>Hint</font> and the <font color='#33cc99'>Solution</font>.\n",
        "\n",
        "If at any point you're having trouble with coming up with the correct answer to a problem, you are welcome to obtain either a hint or the solution before completing the cell.  (So, you don't need to get a <font color='#33cc33'>Correct</font> result before running the code that gives you a <font color='#3366cc'>Hint</font> or the <font color='#33cc99'>Solution</font>.)\n",
        "\n",
        "## Step 3: Plot the data\n",
        "\n",
        "Now that the data is loaded into the notebook, you're ready to visualize it!  \n",
        "\n",
        "Run the next code cell without changes to make a line chart.  The code may not make sense yet - you'll learn all about it in the next tutorial!"
      ],
      "metadata": {
        "id": "luwGJGG7JybQ"
      }
    },
    {
      "cell_type": "code",
      "source": [
        "# Set the width and height of the figure\n",
        "plt.figure(figsize=(16,6))\n",
        "\n",
        "# Line chart showing how FIFA rankings evolved over time\n",
        "sns.lineplot(data=fifa_data)\n",
        "\n",
        "# Check your answer\n",
        "step_3.a.check()"
      ],
      "metadata": {
        "execution": {
          "iopub.status.busy": "2024-08-22T12:54:14.579414Z",
          "iopub.execute_input": "2024-08-22T12:54:14.579865Z",
          "iopub.status.idle": "2024-08-22T12:54:15.354706Z",
          "shell.execute_reply.started": "2024-08-22T12:54:14.579819Z",
          "shell.execute_reply": "2024-08-22T12:54:15.353393Z"
        },
        "trusted": true,
        "id": "LB2OaeQdJybQ"
      },
      "execution_count": null,
      "outputs": []
    },
    {
      "cell_type": "markdown",
      "source": [
        "Some questions won't require you to write any code.  Instead, you'll interpret visualizations.\n",
        "\n",
        "As an example, consider the question: Considering only the years represented in the dataset, which countries spent at least 5 consecutive years in the #1 ranked spot?\n",
        "\n",
        "To receive a <font color='#3366cc'>Hint</font>, uncomment the line below, and run the code cell."
      ],
      "metadata": {
        "id": "fKvDrCICJybQ"
      }
    },
    {
      "cell_type": "code",
      "source": [
        "#step_3.b.hint()"
      ],
      "metadata": {
        "id": "_9rsaF9lJybQ"
      },
      "execution_count": null,
      "outputs": []
    },
    {
      "cell_type": "markdown",
      "source": [
        "Once you have an answer, check the <font color='#33cc99'>Solution</font> to get credit for completing the problem and to ensure your interpretation is right."
      ],
      "metadata": {
        "id": "iI1n6jFdJybQ"
      }
    },
    {
      "cell_type": "code",
      "source": [
        "# Check your answer (Run this code cell to receive credit!)\n",
        "step_3.b.solution()"
      ],
      "metadata": {
        "id": "vpdpHDkCJybQ"
      },
      "execution_count": null,
      "outputs": []
    },
    {
      "cell_type": "markdown",
      "source": [
        "Congratulations - you have completed your first coding exercise!\n",
        "\n",
        "# Keep going\n",
        "\n",
        "Move on to learn to create your own **[line charts](https://www.kaggle.com/alexisbcook/line-charts)** with a new dataset."
      ],
      "metadata": {
        "id": "k0ZVfQwoJybQ"
      }
    },
    {
      "cell_type": "markdown",
      "source": [
        "---\n",
        "\n",
        "\n",
        "\n",
        "\n",
        "*Have questions or comments? Visit the [course discussion forum](https://www.kaggle.com/learn/data-visualization/discussion) to chat with other learners.*"
      ],
      "metadata": {
        "id": "EvRlcCHjJybQ"
      }
    }
  ]
}