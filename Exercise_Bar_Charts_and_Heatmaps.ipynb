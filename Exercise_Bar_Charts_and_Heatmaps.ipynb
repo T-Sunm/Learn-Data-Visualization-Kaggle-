{
  "metadata": {
    "kernelspec": {
      "display_name": "Python 3",
      "language": "python",
      "name": "python3"
    },
    "language_info": {
      "name": "python",
      "version": "3.10.14",
      "mimetype": "text/x-python",
      "codemirror_mode": {
        "name": "ipython",
        "version": 3
      },
      "pygments_lexer": "ipython3",
      "nbconvert_exporter": "python",
      "file_extension": ".py"
    },
    "kaggle": {
      "accelerator": "none",
      "dataSources": [
        {
          "sourceId": 3551030,
          "sourceType": "datasetVersion",
          "datasetId": 116573
        }
      ],
      "isInternetEnabled": false,
      "language": "python",
      "sourceType": "notebook",
      "isGpuEnabled": false
    },
    "colab": {
      "name": "Exercise: Bar Charts and Heatmaps",
      "provenance": [],
      "include_colab_link": true
    }
  },
  "nbformat_minor": 0,
  "nbformat": 4,
  "cells": [
    {
      "cell_type": "markdown",
      "metadata": {
        "id": "view-in-github",
        "colab_type": "text"
      },
      "source": [
        "<a href=\"https://colab.research.google.com/github/T-Sunm/Learn-Data-Visualization-Kaggle-/blob/main/Exercise_Bar_Charts_and_Heatmaps.ipynb\" target=\"_parent\"><img src=\"https://colab.research.google.com/assets/colab-badge.svg\" alt=\"Open In Colab\"/></a>"
      ]
    },
    {
      "source": [
        "\n",
        "# IMPORTANT: RUN THIS CELL IN ORDER TO IMPORT YOUR KAGGLE DATA SOURCES\n",
        "# TO THE CORRECT LOCATION (/kaggle/input) IN YOUR NOTEBOOK,\n",
        "# THEN FEEL FREE TO DELETE THIS CELL.\n",
        "# NOTE: THIS NOTEBOOK ENVIRONMENT DIFFERS FROM KAGGLE'S PYTHON\n",
        "# ENVIRONMENT SO THERE MAY BE MISSING LIBRARIES USED BY YOUR\n",
        "# NOTEBOOK.\n",
        "\n",
        "import os\n",
        "import sys\n",
        "from tempfile import NamedTemporaryFile\n",
        "from urllib.request import urlopen\n",
        "from urllib.parse import unquote, urlparse\n",
        "from urllib.error import HTTPError\n",
        "from zipfile import ZipFile\n",
        "import tarfile\n",
        "import shutil\n",
        "\n",
        "CHUNK_SIZE = 40960\n",
        "DATA_SOURCE_MAPPING = ':https%3A%2F%2Fstorage.googleapis.com%2Fkaggle-data-sets%2F116573%2F3551030%2Fbundle%2Farchive.zip%3FX-Goog-Algorithm%3DGOOG4-RSA-SHA256%26X-Goog-Credential%3Dgcp-kaggle-com%2540kaggle-161607.iam.gserviceaccount.com%252F20240822%252Fauto%252Fstorage%252Fgoog4_request%26X-Goog-Date%3D20240822T155952Z%26X-Goog-Expires%3D259200%26X-Goog-SignedHeaders%3Dhost%26X-Goog-Signature%3D70eb6977638822c250984444519e8b64dff2b05e3af083f305b29390ca65492a38452e4c311fc80c79f5be211dca79d93fb19e623ea09327b8e11198a495a1ce981c2a8b7ba702df196578e3add849f817c99e90682149ed1f292d08d07e648fefbff47b9bbd98a48f78d50f28131ffc24bdb7c3ff4af3abbdf0068d2500d736e96e02b4491b0b90909d101e16123695bc950bc7d98614f19955b6cb764f7b6863c9c9333bfbccd8f1bf982577303fadd729347e6e3c1358254095d11062656dca370030587c5704921ec452826571ae8e8f7f493e488b2b00e51cc2f93b65789c93ede202109da7bf8e13c89004dade69c1b509af10badbc4529e575058d2b6'\n",
        "\n",
        "KAGGLE_INPUT_PATH='/kaggle/input'\n",
        "KAGGLE_WORKING_PATH='/kaggle/working'\n",
        "KAGGLE_SYMLINK='kaggle'\n",
        "\n",
        "!umount /kaggle/input/ 2> /dev/null\n",
        "shutil.rmtree('/kaggle/input', ignore_errors=True)\n",
        "os.makedirs(KAGGLE_INPUT_PATH, 0o777, exist_ok=True)\n",
        "os.makedirs(KAGGLE_WORKING_PATH, 0o777, exist_ok=True)\n",
        "\n",
        "try:\n",
        "  os.symlink(KAGGLE_INPUT_PATH, os.path.join(\"..\", 'input'), target_is_directory=True)\n",
        "except FileExistsError:\n",
        "  pass\n",
        "try:\n",
        "  os.symlink(KAGGLE_WORKING_PATH, os.path.join(\"..\", 'working'), target_is_directory=True)\n",
        "except FileExistsError:\n",
        "  pass\n",
        "\n",
        "for data_source_mapping in DATA_SOURCE_MAPPING.split(','):\n",
        "    directory, download_url_encoded = data_source_mapping.split(':')\n",
        "    download_url = unquote(download_url_encoded)\n",
        "    filename = urlparse(download_url).path\n",
        "    destination_path = os.path.join(KAGGLE_INPUT_PATH, directory)\n",
        "    try:\n",
        "        with urlopen(download_url) as fileres, NamedTemporaryFile() as tfile:\n",
        "            total_length = fileres.headers['content-length']\n",
        "            print(f'Downloading {directory}, {total_length} bytes compressed')\n",
        "            dl = 0\n",
        "            data = fileres.read(CHUNK_SIZE)\n",
        "            while len(data) > 0:\n",
        "                dl += len(data)\n",
        "                tfile.write(data)\n",
        "                done = int(50 * dl / int(total_length))\n",
        "                sys.stdout.write(f\"\\r[{'=' * done}{' ' * (50-done)}] {dl} bytes downloaded\")\n",
        "                sys.stdout.flush()\n",
        "                data = fileres.read(CHUNK_SIZE)\n",
        "            if filename.endswith('.zip'):\n",
        "              with ZipFile(tfile) as zfile:\n",
        "                zfile.extractall(destination_path)\n",
        "            else:\n",
        "              with tarfile.open(tfile.name) as tarfile:\n",
        "                tarfile.extractall(destination_path)\n",
        "            print(f'\\nDownloaded and uncompressed: {directory}')\n",
        "    except HTTPError as e:\n",
        "        print(f'Failed to load (likely expired) {download_url} to path {destination_path}')\n",
        "        continue\n",
        "    except OSError as e:\n",
        "        print(f'Failed to load {download_url} to path {destination_path}')\n",
        "        continue\n",
        "\n",
        "print('Data source import complete.')\n"
      ],
      "metadata": {
        "id": "7ihx7zFN0C-c"
      },
      "cell_type": "code",
      "outputs": [],
      "execution_count": null
    },
    {
      "cell_type": "markdown",
      "source": [
        "**This notebook is an exercise in the [Data Visualization](https://www.kaggle.com/learn/data-visualization) course.  You can reference the tutorial at [this link](https://www.kaggle.com/alexisbcook/bar-charts-and-heatmaps).**\n",
        "\n",
        "---\n"
      ],
      "metadata": {
        "id": "inY1RxNu0C-f"
      }
    },
    {
      "cell_type": "markdown",
      "source": [
        "In this exercise, you will use your new knowledge to propose a solution to a real-world scenario.  To succeed, you will need to import data into Python, answer questions using the data, and generate **bar charts** and **heatmaps** to understand patterns in the data.\n",
        "\n",
        "## Scenario\n",
        "\n",
        "You've recently decided to create your very own video game!  As an avid reader of [IGN Game Reviews](https://www.ign.com/reviews/games), you hear about all of the most recent game releases, along with the ranking they've received from experts, ranging from 0 (_Disaster_) to 10 (_Masterpiece_).\n",
        "\n",
        "![ex2_ign](https://storage.googleapis.com/kaggle-media/learn/images/Oh06Fu1.png)\n",
        "\n",
        "You're interested in using [IGN reviews](https://www.ign.com/reviews/games) to guide the design of your upcoming game.  Thankfully, someone has summarized the rankings in a really useful CSV file that you can use to guide your analysis.\n",
        "\n",
        "## Setup\n",
        "\n",
        "Run the next cell to import and configure the Python libraries that you need to complete the exercise."
      ],
      "metadata": {
        "id": "oGOPfI-F0C-g"
      }
    },
    {
      "cell_type": "code",
      "source": [
        "import pandas as pd\n",
        "pd.plotting.register_matplotlib_converters()\n",
        "import matplotlib.pyplot as plt\n",
        "%matplotlib inline\n",
        "import seaborn as sns\n",
        "print(\"Setup Complete\")"
      ],
      "metadata": {
        "execution": {
          "iopub.status.busy": "2024-08-22T14:10:20.742325Z",
          "iopub.execute_input": "2024-08-22T14:10:20.743054Z",
          "iopub.status.idle": "2024-08-22T14:10:23.656624Z",
          "shell.execute_reply.started": "2024-08-22T14:10:20.742996Z",
          "shell.execute_reply": "2024-08-22T14:10:23.655345Z"
        },
        "trusted": true,
        "id": "dCZY7n7J0C-g"
      },
      "execution_count": null,
      "outputs": []
    },
    {
      "cell_type": "markdown",
      "source": [
        "The questions below will give you feedback on your work. Run the following cell to set up our feedback system."
      ],
      "metadata": {
        "id": "se9Bwt5m0C-h"
      }
    },
    {
      "cell_type": "code",
      "source": [
        "# Set up code checking\n",
        "import os\n",
        "if not os.path.exists(\"../input/ign_scores.csv\"):\n",
        "    os.symlink(\"../input/data-for-datavis/ign_scores.csv\", \"../input/ign_scores.csv\")\n",
        "from learntools.core import binder\n",
        "binder.bind(globals())\n",
        "from learntools.data_viz_to_coder.ex3 import *\n",
        "print(\"Setup Complete\")"
      ],
      "metadata": {
        "execution": {
          "iopub.status.busy": "2024-08-22T14:10:23.658752Z",
          "iopub.execute_input": "2024-08-22T14:10:23.659279Z",
          "iopub.status.idle": "2024-08-22T14:10:23.74098Z",
          "shell.execute_reply.started": "2024-08-22T14:10:23.659235Z",
          "shell.execute_reply": "2024-08-22T14:10:23.739881Z"
        },
        "trusted": true,
        "id": "u1DQOkDH0C-h"
      },
      "execution_count": null,
      "outputs": []
    },
    {
      "cell_type": "markdown",
      "source": [
        "## Step 1: Load the data\n",
        "\n",
        "Read the IGN data file into `ign_data`.  Use the `\"Platform\"` column to label the rows."
      ],
      "metadata": {
        "id": "Gom3DTva0C-h"
      }
    },
    {
      "cell_type": "code",
      "source": [
        "# Path of the file to read\n",
        "ign_filepath = \"../input/ign_scores.csv\"\n",
        "\n",
        "# Fill in the line below to read the file into a variable ign_data\n",
        "ign_data = pd.read_csv(ign_filepath, index_col = \"Platform\")\n",
        "\n",
        "# Run the line below with no changes to check that you've loaded the data correctly\n",
        "step_1.check()"
      ],
      "metadata": {
        "execution": {
          "iopub.status.busy": "2024-08-22T14:16:02.758486Z",
          "iopub.execute_input": "2024-08-22T14:16:02.75907Z",
          "iopub.status.idle": "2024-08-22T14:16:02.777775Z",
          "shell.execute_reply.started": "2024-08-22T14:16:02.759016Z",
          "shell.execute_reply": "2024-08-22T14:16:02.775764Z"
        },
        "trusted": true,
        "id": "xsWM_S040C-i"
      },
      "execution_count": null,
      "outputs": []
    },
    {
      "cell_type": "code",
      "source": [
        "# Lines below will give you a hint or solution code\n",
        "#step_1.hint()\n",
        "#step_1.solution()"
      ],
      "metadata": {
        "id": "ieh8dICd0C-i"
      },
      "execution_count": null,
      "outputs": []
    },
    {
      "cell_type": "markdown",
      "source": [
        "## Step 2: Review the data\n",
        "\n",
        "Use a Python command to print the entire dataset."
      ],
      "metadata": {
        "id": "jn0-KwZt0C-i"
      }
    },
    {
      "cell_type": "code",
      "source": [
        "# Print the data\n",
        "ign_data"
      ],
      "metadata": {
        "execution": {
          "iopub.status.busy": "2024-08-22T14:17:07.022014Z",
          "iopub.execute_input": "2024-08-22T14:17:07.022538Z",
          "iopub.status.idle": "2024-08-22T14:17:07.063751Z",
          "shell.execute_reply.started": "2024-08-22T14:17:07.022488Z",
          "shell.execute_reply": "2024-08-22T14:17:07.06193Z"
        },
        "trusted": true,
        "id": "kndX4kEA0C-j"
      },
      "execution_count": null,
      "outputs": []
    },
    {
      "cell_type": "markdown",
      "source": [
        "The dataset that you've just printed shows the average score, by platform and genre.  Use the data to answer the questions below."
      ],
      "metadata": {
        "id": "5b6GXUJU0C-j"
      }
    },
    {
      "cell_type": "code",
      "source": [
        "# Fill in the line below: What is the highest average score received by PC games,\n",
        "# for any genre?\n",
        "high_score = ign_data.loc[\"PC\"].max()\n",
        "\n",
        "# Fill in the line below: On the Playstation Vita platform, which genre has the\n",
        "# lowest average score? Please provide the name of the column, and put your answer\n",
        "# in single quotes (e.g., 'Action', 'Adventure', 'Fighting', etc.)\n",
        "worst_genre_index = ign_data.loc[\"PlayStation Vita\"].argmin()\n",
        "worst_genre = ign_data.columns[worst_genre_index]\n",
        "\n",
        "# Check your answers\n",
        "step_2.check()"
      ],
      "metadata": {
        "execution": {
          "iopub.status.busy": "2024-08-22T14:55:47.172639Z",
          "iopub.execute_input": "2024-08-22T14:55:47.173107Z",
          "iopub.status.idle": "2024-08-22T14:55:47.186029Z",
          "shell.execute_reply.started": "2024-08-22T14:55:47.173066Z",
          "shell.execute_reply": "2024-08-22T14:55:47.184612Z"
        },
        "trusted": true,
        "id": "PAJHZizg0C-j"
      },
      "execution_count": null,
      "outputs": []
    },
    {
      "cell_type": "code",
      "source": [
        "# Lines below will give you a hint or solution code\n",
        "#step_2.hint()\n",
        "#step_2.solution()"
      ],
      "metadata": {
        "id": "rOg2uNmJ0C-j"
      },
      "execution_count": null,
      "outputs": []
    },
    {
      "cell_type": "markdown",
      "source": [
        "## Step 3: Which platform is best?\n",
        "\n",
        "Since you can remember, your favorite video game has been [**Mario Kart Wii**](https://www.ign.com/games/mario-kart-wii), a racing game released for the Wii platform in 2008.  And, IGN agrees with you that it is a great game -- their rating for this game is a whopping 8.9!  Inspired by the success of this game, you're considering creating your very own racing game for the Wii platform.\n",
        "\n",
        "#### Part A\n",
        "\n",
        "Create a bar chart that shows the average score for **racing** games, for each platform.  Your chart should have one bar for each platform."
      ],
      "metadata": {
        "id": "SHGPiYbG0C-j"
      }
    },
    {
      "cell_type": "code",
      "source": [
        "racing_plat = ign_data['Racing']\n",
        "print(racing_plat)"
      ],
      "metadata": {
        "execution": {
          "iopub.status.busy": "2024-08-22T15:03:01.548106Z",
          "iopub.execute_input": "2024-08-22T15:03:01.548674Z",
          "iopub.status.idle": "2024-08-22T15:03:01.557151Z",
          "shell.execute_reply.started": "2024-08-22T15:03:01.548623Z",
          "shell.execute_reply": "2024-08-22T15:03:01.555862Z"
        },
        "trusted": true,
        "id": "vqpA-v_w0C-j"
      },
      "execution_count": null,
      "outputs": []
    },
    {
      "cell_type": "code",
      "source": [
        "# Bar chart showing average score for racing games by platform\n",
        "racing_plat = ign_data['Racing']\n",
        "plt.figure(figsize=(10, 6))\n",
        "sns.barplot(x=racing_plat, y=ign_data.index)\n",
        "plt.title('Average score for racing games by platform')\n",
        "plt.xlabel('Rating')\n",
        "plt.ylabel('Platforms')\n",
        "# Check your answer\n",
        "step_3.a.check()"
      ],
      "metadata": {
        "execution": {
          "iopub.status.busy": "2024-08-22T15:09:34.59858Z",
          "iopub.execute_input": "2024-08-22T15:09:34.599116Z",
          "iopub.status.idle": "2024-08-22T15:09:35.177453Z",
          "shell.execute_reply.started": "2024-08-22T15:09:34.599066Z",
          "shell.execute_reply": "2024-08-22T15:09:35.175961Z"
        },
        "trusted": true,
        "id": "5f1zwMsH0C-k"
      },
      "execution_count": null,
      "outputs": []
    },
    {
      "cell_type": "code",
      "source": [
        "# Lines below will give you a hint or solution code\n",
        "#step_3.a.hint()\n",
        "# step_3.a.solution_plot()"
      ],
      "metadata": {
        "trusted": true,
        "id": "tuVYgejX0C-k"
      },
      "execution_count": null,
      "outputs": []
    },
    {
      "cell_type": "markdown",
      "source": [
        "#### Part B\n",
        "\n",
        "Based on the bar chart, do you expect a racing game for the **Wii** platform to receive a high rating?  If not, what gaming platform seems to be the best alternative?"
      ],
      "metadata": {
        "id": "UpwzC-Fd0C-k"
      }
    },
    {
      "cell_type": "code",
      "source": [
        "#step_3.b.hint()"
      ],
      "metadata": {
        "execution": {
          "iopub.status.busy": "2024-08-22T15:35:24.135616Z",
          "iopub.execute_input": "2024-08-22T15:35:24.136173Z",
          "iopub.status.idle": "2024-08-22T15:35:24.141997Z",
          "shell.execute_reply.started": "2024-08-22T15:35:24.136122Z",
          "shell.execute_reply": "2024-08-22T15:35:24.140511Z"
        },
        "trusted": true,
        "id": "nvd7C59V0C-k"
      },
      "execution_count": null,
      "outputs": []
    },
    {
      "cell_type": "code",
      "source": [
        "# Check your answer (Run this code cell to receive credit!)\n",
        "# step_3.b.solution()"
      ],
      "metadata": {
        "execution": {
          "iopub.status.busy": "2024-08-22T15:35:26.36341Z",
          "iopub.execute_input": "2024-08-22T15:35:26.364974Z",
          "iopub.status.idle": "2024-08-22T15:35:26.370492Z",
          "shell.execute_reply.started": "2024-08-22T15:35:26.364893Z",
          "shell.execute_reply": "2024-08-22T15:35:26.369135Z"
        },
        "trusted": true,
        "id": "EIxfVpXl0C-k"
      },
      "execution_count": null,
      "outputs": []
    },
    {
      "cell_type": "markdown",
      "source": [
        "## Step 4: All possible combinations!\n",
        "\n",
        "Eventually, you decide against creating a racing game for Wii, but you're still committed to creating your own video game!  Since your gaming interests are pretty broad (_... you generally love most video games_), you decide to use the IGN data to inform your new choice of genre and platform.\n",
        "\n",
        "#### Part A\n",
        "\n",
        "Use the data to create a heatmap of average score by genre and platform.  "
      ],
      "metadata": {
        "id": "Zk-EzEkS0C-k"
      }
    },
    {
      "cell_type": "code",
      "source": [
        "plt.figure(figsize=(10,9))\n",
        "# Heatmap showing average game score by platform and genre\n",
        "sns.heatmap(data=ign_data,annot=True)\n",
        "plt.title('average game score by platform and genre')\n",
        "plt.xlabel('Genre')\n",
        "# Check your answer\n",
        "step_4.a.check()"
      ],
      "metadata": {
        "execution": {
          "iopub.status.busy": "2024-08-22T15:55:05.617873Z",
          "iopub.execute_input": "2024-08-22T15:55:05.619082Z",
          "iopub.status.idle": "2024-08-22T15:55:07.008837Z",
          "shell.execute_reply.started": "2024-08-22T15:55:05.619023Z",
          "shell.execute_reply": "2024-08-22T15:55:07.00765Z"
        },
        "trusted": true,
        "id": "6Jb0xKZd0C-k"
      },
      "execution_count": null,
      "outputs": []
    },
    {
      "cell_type": "code",
      "source": [
        "# Lines below will give you a hint or solution code\n",
        "#step_4.a.hint()\n",
        "step_4.a.solution_plot()"
      ],
      "metadata": {
        "trusted": true,
        "id": "GFcIa6YN0C-k"
      },
      "execution_count": null,
      "outputs": []
    },
    {
      "cell_type": "markdown",
      "source": [
        "#### Part B\n",
        "\n",
        "Which combination of genre and platform receives the highest average ratings?  Which combination receives the lowest average rankings?"
      ],
      "metadata": {
        "id": "d4uC7fgc0C-k"
      }
    },
    {
      "cell_type": "code",
      "source": [
        "#step_4.b.hint()"
      ],
      "metadata": {
        "id": "KQFx6jPS0C-k"
      },
      "execution_count": null,
      "outputs": []
    },
    {
      "cell_type": "code",
      "source": [
        "# Check your answer (Run this code cell to receive credit!)\n",
        "step_4.b.solution()"
      ],
      "metadata": {
        "execution": {
          "iopub.status.busy": "2024-08-22T15:55:42.129614Z",
          "iopub.execute_input": "2024-08-22T15:55:42.130165Z",
          "iopub.status.idle": "2024-08-22T15:55:42.142067Z",
          "shell.execute_reply.started": "2024-08-22T15:55:42.130114Z",
          "shell.execute_reply": "2024-08-22T15:55:42.140718Z"
        },
        "trusted": true,
        "id": "knICQTFC0C-k"
      },
      "execution_count": null,
      "outputs": []
    },
    {
      "cell_type": "markdown",
      "source": [
        "# Keep going\n",
        "\n",
        "Move on to learn all about **[scatter plots](https://www.kaggle.com/alexisbcook/scatter-plots)**!"
      ],
      "metadata": {
        "id": "gltaw0KA0C-l"
      }
    },
    {
      "cell_type": "markdown",
      "source": [
        "---\n",
        "\n",
        "\n",
        "\n",
        "\n",
        "*Have questions or comments? Visit the [course discussion forum](https://www.kaggle.com/learn/data-visualization/discussion) to chat with other learners.*"
      ],
      "metadata": {
        "id": "TFRXtSeX0C-l"
      }
    }
  ]
}